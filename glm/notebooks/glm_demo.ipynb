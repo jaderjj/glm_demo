{
 "cells": [
  {
   "cell_type": "markdown",
   "metadata": {},
   "source": [
    "# Import"
   ]
  },
  {
   "cell_type": "code",
   "execution_count": 16,
   "metadata": {},
   "outputs": [],
   "source": [
    "import numpy as np\n",
    "import pandas as pd\n",
    "import matplotlib.pyplot as plt\n",
    "from numpy.random import uniform, normal, poisson, binomial\n",
    "from scipy import stats\n",
    "import warnings\n",
    "import seaborn\n",
    "import statsmodels.api as sm\n",
    "warnings.filterwarnings('ignore')"
   ]
  },
  {
   "cell_type": "markdown",
   "metadata": {},
   "source": [
    "# GLM Overview"
   ]
  },
  {
   "cell_type": "raw",
   "metadata": {},
   "source": [
    "Each GLM is composed of a linking function and a probability distribution\n",
    "\n",
    "Common examples include:\n",
    "========================\n",
    "1. Linear regression (linking function is identify, probability distribution is normal). Used for static variance.\n",
    "2. Logistic regression (linking function is logit, probability distribution is binomial). Used for discrete cases, non static variance.\n",
    "3. Poisson regression (linking function is log, probability distribution is poisson). Used for continous cases, but non static variance.\n",
    "\n",
    "GLM case build:\n",
    "\n",
    "1. z = a + bx (a, b are real constants, x is independent variable). This is our linear prediction.\n",
    "\n",
    "2. Linking_Function(g) = z\n",
    "\n",
    "- Example, for logit: logit(g) = z = log(g/1-g) -> g = 1/1+e^-z\n",
    "- Example, for log: log(g) = z -> g = exp(z)\n",
    "- Example, for identity: g = z\n",
    "\n",
    "3. Probability distribution modelling of g\n",
    "\n",
    "- Example for binomial, y = Binomial(g)"
   ]
  },
  {
   "cell_type": "markdown",
   "metadata": {},
   "source": [
    "# GLM - Logisitc Regression\n",
    "- Linking function: logit: logit(y) = log(y/1-y)\n",
    "- Sigmoid function: g(z) = 1/1+e^-z\n",
    "- Probability distribution: binomial/bernoulli"
   ]
  },
  {
   "cell_type": "code",
   "execution_count": 3,
   "metadata": {},
   "outputs": [],
   "source": [
    "def sigmoid(z):\n",
    "    return 1/(1+np.exp(-z))"
   ]
  },
  {
   "cell_type": "code",
   "execution_count": 4,
   "metadata": {},
   "outputs": [
    {
     "data": {
      "text/plain": [
       "[<matplotlib.lines.Line2D at 0x7fb1b3e30cd0>]"
      ]
     },
     "execution_count": 4,
     "metadata": {},
     "output_type": "execute_result"
    },
    {
     "data": {
      "image/png": "[encoded data removed]",
      "text/plain": [
       "<Figure size 432x288 with 1 Axes>"
      ]
     },
     "metadata": {
      "needs_background": "light"
     },
     "output_type": "display_data"
    }
   ],
   "source": [
    "# View the sigmoid function\n",
    "plt.plot(np.linspace(-10,10),sigmoid(np.linspace(-10,10)))"
   ]
  },
  {
   "cell_type": "code",
   "execution_count": 20,
   "metadata": {},
   "outputs": [],
   "source": [
    "a = 3 # slope\n",
    "b = -10 # intercept\n",
    "n = 100 # sample size\n",
    "x = np.sort(uniform(1,5,size=n))"
   ]
  },
  {
   "cell_type": "code",
   "execution_count": 21,
   "metadata": {},
   "outputs": [],
   "source": [
    "g = sigmoid(a*x + b)"
   ]
  },
  {
   "cell_type": "code",
   "execution_count": 22,
   "metadata": {},
   "outputs": [],
   "source": [
    "y = binomial(n=1, p=g)"
   ]
  },
  {
   "cell_type": "code",
   "execution_count": 23,
   "metadata": {},
   "outputs": [],
   "source": [
    "exog, endog = sm.add_constant(x), y"
   ]
  },
  {
   "cell_type": "code",
   "execution_count": 24,
   "metadata": {},
   "outputs": [
    {
     "data": {
      "text/html": [
       "<table class=\"simpletable\">\n",
       "<caption>Generalized Linear Model Regression Results</caption>\n",
       "<tr>\n",
       "  <th>Dep. Variable:</th>           <td>y</td>        <th>  No. Observations:  </th>  <td>   100</td> \n",
       "</tr>\n",
       "<tr>\n",
       "  <th>Model:</th>                  <td>GLM</td>       <th>  Df Residuals:      </th>  <td>    98</td> \n",
       "</tr>\n",
       "<tr>\n",
       "  <th>Model Family:</th>        <td>Binomial</td>     <th>  Df Model:          </th>  <td>     1</td> \n",
       "</tr>\n",
       "<tr>\n",
       "  <th>Link Function:</th>         <td>logit</td>      <th>  Scale:             </th> <td>  1.0000</td>\n",
       "</tr>\n",
       "<tr>\n",
       "  <th>Method:</th>                <td>IRLS</td>       <th>  Log-Likelihood:    </th> <td> -18.172</td>\n",
       "</tr>\n",
       "<tr>\n",
       "  <th>Date:</th>            <td>Tue, 26 Apr 2022</td> <th>  Deviance:          </th> <td>  36.343</td>\n",
       "</tr>\n",
       "<tr>\n",
       "  <th>Time:</th>                <td>12:41:21</td>     <th>  Pearson chi2:      </th>  <td>  55.0</td> \n",
       "</tr>\n",
       "<tr>\n",
       "  <th>No. Iterations:</th>          <td>7</td>        <th>                     </th>     <td> </td>   \n",
       "</tr>\n",
       "<tr>\n",
       "  <th>Covariance Type:</th>     <td>nonrobust</td>    <th>                     </th>     <td> </td>   \n",
       "</tr>\n",
       "</table>\n",
       "<table class=\"simpletable\">\n",
       "<tr>\n",
       "    <td></td>       <th>coef</th>     <th>std err</th>      <th>z</th>      <th>P>|z|</th>  <th>[0.025</th>    <th>0.975]</th>  \n",
       "</tr>\n",
       "<tr>\n",
       "  <th>const</th> <td>  -12.4042</td> <td>    3.088</td> <td>   -4.017</td> <td> 0.000</td> <td>  -18.457</td> <td>   -6.351</td>\n",
       "</tr>\n",
       "<tr>\n",
       "  <th>x1</th>    <td>    3.9236</td> <td>    0.947</td> <td>    4.141</td> <td> 0.000</td> <td>    2.067</td> <td>    5.781</td>\n",
       "</tr>\n",
       "</table>"
      ],
      "text/plain": [
       "<class 'statsmodels.iolib.summary.Summary'>\n",
       "\"\"\"\n",
       "                 Generalized Linear Model Regression Results                  \n",
       "==============================================================================\n",
       "Dep. Variable:                      y   No. Observations:                  100\n",
       "Model:                            GLM   Df Residuals:                       98\n",
       "Model Family:                Binomial   Df Model:                            1\n",
       "Link Function:                  logit   Scale:                          1.0000\n",
       "Method:                          IRLS   Log-Likelihood:                -18.172\n",
       "Date:                Tue, 26 Apr 2022   Deviance:                       36.343\n",
       "Time:                        12:41:21   Pearson chi2:                     55.0\n",
       "No. Iterations:                     7                                         \n",
       "Covariance Type:            nonrobust                                         \n",
       "==============================================================================\n",
       "                 coef    std err          z      P>|z|      [0.025      0.975]\n",
       "------------------------------------------------------------------------------\n",
       "const        -12.4042      3.088     -4.017      0.000     -18.457      -6.351\n",
       "x1             3.9236      0.947      4.141      0.000       2.067       5.781\n",
       "==============================================================================\n",
       "\"\"\""
      ]
     },
     "metadata": {},
     "output_type": "display_data"
    }
   ],
   "source": [
    "# Logistic regression\n",
    "mod = sm.GLM(endog, exog, family=sm.families.Binomial(link=sm.families.links.logit()))\n",
    "res = mod.fit()\n",
    "display(res.summary())"
   ]
  },
  {
   "cell_type": "code",
   "execution_count": 25,
   "metadata": {},
   "outputs": [
    {
     "data": {
      "text/plain": [
       "Text(0, 0.5, 'Y')"
      ]
     },
     "execution_count": 25,
     "metadata": {},
     "output_type": "execute_result"
    },
    {
     "data": {
      "image/png": "[encoded data removed]",
      "text/plain": [
       "<Figure size 432x288 with 1 Axes>"
      ]
     },
     "metadata": {
      "needs_background": "light"
     },
     "output_type": "display_data"
    }
   ],
   "source": [
    "y_pred = res.predict(exog)\n",
    "\n",
    "idx = x.argsort()\n",
    "x_ord, y_pred_ord = x[idx], y_pred[idx]\n",
    "plt.plot(x_ord, y_pred_ord, color='m')\n",
    "plt.scatter(x, y,  s=20, alpha=0.8)\n",
    "plt.xlabel(\"X\")\n",
    "plt.ylabel(\"Y\")"
   ]
  },
  {
   "cell_type": "markdown",
   "metadata": {},
   "source": [
    "# GLM - Poisson Regression"
   ]
  },
  {
   "cell_type": "code",
   "execution_count": 52,
   "metadata": {},
   "outputs": [],
   "source": [
    "def glm_poisson(a:int, b:int, n:int) -> np.ndarray:\n",
    "    \"\"\"\n",
    "    Linking function: log (log(g) = z)\n",
    "    Probability distribution: Poisson(g)\n",
    "    \n",
    "    param: a, slope coefficient for linear predictor.\n",
    "    param: b, intercept coefficient for linear predictor.\n",
    "    param: n, sample size\n",
    "    \n",
    "    return: ypred: np.ndarray, predicted values from fitted GLM model\n",
    "    \"\"\"\n",
    "    # ============== #\n",
    "    # Initialize GLM #\n",
    "    # ============== #\n",
    "    x = uniform(1,5,size=n)\n",
    "    g = np.exp(a*x + b)\n",
    "    y = poisson(g)\n",
    "    exog, endog = sm.add_constant(x), y\n",
    "    # ============== #\n",
    "    #    Modelling   #\n",
    "    # ============== #\n",
    "    model = sm.GLM(endog, exog, family=sm.families.Poisson(link=sm.families.links.log()))\n",
    "    result = model.fit()\n",
    "    print(result.summary())\n",
    "    y_pred = result.predict(exog)\n",
    "    # ============== #\n",
    "    #    Plotting    #\n",
    "    # ============== #\n",
    "    idx = x.argsort()\n",
    "    x_ord, y_pred_ord = x[idx], y_pred[idx]\n",
    "    plt.plot(x_ord, y_pred_ord, color='m') # GLM prediction\n",
    "    plt.scatter(x, y,  s=20, alpha=0.8) # data values\n",
    "    plt.title('Poisson Regression GLM', fontsize=12)\n",
    "    return y_pred"
   ]
  },
  {
   "cell_type": "code",
   "execution_count": 53,
   "metadata": {},
   "outputs": [
    {
     "name": "stdout",
     "output_type": "stream",
     "text": [
      "                 Generalized Linear Model Regression Results                  \n",
      "==============================================================================\n",
      "Dep. Variable:                      y   No. Observations:                  100\n",
      "Model:                            GLM   Df Residuals:                       98\n",
      "Model Family:                 Poisson   Df Model:                            1\n",
      "Link Function:                    log   Scale:                          1.0000\n",
      "Method:                          IRLS   Log-Likelihood:                -214.82\n",
      "Date:                Tue, 26 Apr 2022   Deviance:                       120.26\n",
      "Time:                        12:51:09   Pearson chi2:                     112.\n",
      "No. Iterations:                     4                                         \n",
      "Covariance Type:            nonrobust                                         \n",
      "==============================================================================\n",
      "                 coef    std err          z      P>|z|      [0.025      0.975]\n",
      "------------------------------------------------------------------------------\n",
      "const         -0.1088      0.163     -0.666      0.505      -0.429       0.211\n",
      "x1             0.5276      0.045     11.742      0.000       0.440       0.616\n",
      "==============================================================================\n"
     ]
    },
    {
     "data": {
      "image/png": "[encoded data removed]",
      "text/plain": [
       "<Figure size 432x288 with 1 Axes>"
      ]
     },
     "metadata": {
      "needs_background": "light"
     },
     "output_type": "display_data"
    }
   ],
   "source": [
    "y_pred = glm_poisson(0.6,-0.4,100)"
   ]
  },
  {
   "cell_type": "markdown",
   "metadata": {},
   "source": [
    "# Custom GLM\n",
    "- Linking function: logit\n",
    "- Probability distribution: Normal"
   ]
  },
  {
   "cell_type": "raw",
   "metadata": {},
   "source": [
    "logit(g) = z, where z = a*x + b, where a,b are real numbers.\n",
    "g = sigmoid(z)\n",
    "y = normal(g)"
   ]
  },
  {
   "cell_type": "code",
   "execution_count": 54,
   "metadata": {},
   "outputs": [],
   "source": [
    "# ============== #\n",
    "# Initialize GLM #\n",
    "# ============== #\n",
    "x = uniform(1,5,size=100)\n",
    "g = sigmoid(a*x + b)\n",
    "y = normal(g)\n",
    "exog, endog = sm.add_constant(x), y"
   ]
  },
  {
   "cell_type": "code",
   "execution_count": 58,
   "metadata": {},
   "outputs": [
    {
     "name": "stdout",
     "output_type": "stream",
     "text": [
      "                 Generalized Linear Model Regression Results                  \n",
      "==============================================================================\n",
      "Dep. Variable:                      y   No. Observations:                  100\n",
      "Model:                            GLM   Df Residuals:                       98\n",
      "Model Family:                Binomial   Df Model:                            1\n",
      "Link Function:                  logit   Scale:                          1.0000\n",
      "Method:                          IRLS   Log-Likelihood:                    nan\n",
      "Date:                Tue, 26 Apr 2022   Deviance:                          inf\n",
      "Time:                        12:54:18   Pearson chi2:                 5.20e+17\n",
      "No. Iterations:                     4                                         \n",
      "Covariance Type:            nonrobust                                         \n",
      "==============================================================================\n",
      "                 coef    std err          z      P>|z|      [0.025      0.975]\n",
      "------------------------------------------------------------------------------\n",
      "const      -4704.8828     42.874   -109.738      0.000   -4788.914   -4620.852\n",
      "x1          1474.0481     13.431    109.754      0.000    1447.725    1500.371\n",
      "==============================================================================\n"
     ]
    }
   ],
   "source": [
    "# ============== #\n",
    "#    Modelling   #\n",
    "# ============== #\n",
    "model = sm.GLM(endog, exog, family=sm.families.Binomial(link=sm.families.links.logit()))\n",
    "result = model.fit()\n",
    "print(result.summary())\n",
    "y_pred = result.predict(exog)"
   ]
  },
  {
   "cell_type": "code",
   "execution_count": 59,
   "metadata": {},
   "outputs": [
    {
     "data": {
      "text/plain": [
       "<matplotlib.collections.PathCollection at 0x7fb1b60b2790>"
      ]
     },
     "execution_count": 59,
     "metadata": {},
     "output_type": "execute_result"
    },
    {
     "data": {
      "image/png": "[encoded data removed]",
      "text/plain": [
       "<Figure size 432x288 with 1 Axes>"
      ]
     },
     "metadata": {
      "needs_background": "light"
     },
     "output_type": "display_data"
    }
   ],
   "source": [
    "# ============== #\n",
    "#    Plotting    #\n",
    "# ============== #\n",
    "idx = x.argsort()\n",
    "x_ord, y_pred_ord = x[idx], y_pred[idx]\n",
    "plt.plot(x_ord, y_pred_ord, color='m') # GLM prediction\n",
    "plt.scatter(x, y,  s=20, alpha=0.8) # data values"
   ]
  },
  {
   "cell_type": "code",
   "execution_count": null,
   "metadata": {},
   "outputs": [],
   "source": []
  }
 ],
 "metadata": {
  "kernelspec": {
   "display_name": "glm-env",
   "language": "python",
   "name": "glm-env"
  },
  "language_info": {
   "codemirror_mode": {
    "name": "ipython",
    "version": 3
   },
   "file_extension": ".py",
   "mimetype": "text/x-python",
   "name": "python",
   "nbconvert_exporter": "python",
   "pygments_lexer": "ipython3",
   "version": "3.7.4"
  }
 },
 "nbformat": 4,
 "nbformat_minor": 4
}
